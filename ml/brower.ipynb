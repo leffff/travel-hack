{
 "cells": [
  {
   "cell_type": "code",
   "execution_count": 14,
   "id": "9caa6495-dfc1-4384-8f9a-200af4f03cac",
   "metadata": {},
   "outputs": [],
   "source": [
    "import requests\n",
    "from bs4 import BeautifulSoup\n",
    "\n",
    "\n",
    "class LLMBrowser:\n",
    "    def __init__(self, model, tokenizer):\n",
    "        self.model = model\n",
    "        self.tokenizer = tokenizer\n",
    "        \n",
    "    def __call__(self, request: str):\n",
    "        q = \"+\".join(request.split())\n",
    "        r = requests.get(f\"https://www.google.com/search?q={q}\")\n",
    "        soup = BeautifulSoup(r.text, features=\"html.parser\")\n",
    "\n",
    "        soup = self.del_script_and_style(soup)\n",
    "        text = self.extract_text(soup)\n",
    "        return text\n",
    "\n",
    "    def del_script_and_style(self, soup):\n",
    "        for script in soup([\"script\", \"style\"]):\n",
    "            script.extract()    # rip it out\n",
    "        \n",
    "        return soup\n",
    "        \n",
    "    def extract_text(self, soup):\n",
    "        text = soup.get_text()\n",
    "\n",
    "        # break into lines and remove leading and trailing space on each\n",
    "        lines = (line.strip() for line in text.splitlines())\n",
    "        \n",
    "        # break multi-headlines into a line each\n",
    "        chunks = (phrase.strip() for line in lines for phrase in line.split(\"  \"))\n",
    "        \n",
    "        # drop blank lines\n",
    "        text = '\\n'.join(chunk for chunk in chunks if chunk)\n",
    "        \n",
    "        return text"
   ]
  },
  {
   "cell_type": "code",
   "execution_count": 16,
   "id": "cdeb6468-31e0-4c62-86ca-3279723bb8e7",
   "metadata": {},
   "outputs": [
    {
     "data": {
      "text/plain": [
       "'Гостиница Мрия это - Поиск в GoogleGoogle×Нажмите здесь, если переадресация не будет выполнена в течение нескольких секунд.\\nВсеКартинкиКартыВидео Новости Покупки Книги Инструменты поиска\\nНа всех языкахНа всех языкахТолько на русскийЗа всё времяЗа всё время За час За 24 часа За неделю За месяц За годВсе результатыВсе результатыТочное соответствиеО курорте Mriya Resort & SPAmriyaresort.com › aboutMriya Resort & SPA — ведущий мировой курорт премиум-класса, расположенный на Южном берегу Крыма между живописным горным массивом и бескрайним морским\\xa0...МРИЯ РЕЗОРТ энд СПА 4,7\\n(4\\xa0325)\\nОтельМаршрутРоскошный пляжный спа-отель с крытым и открытым бассейнами, а также несколькими ресторанами и барами.Адрес: ул. Генерала Острякова, 9, ОползневоеТелефон: 8 (800) 550-52-71Вопросы по темеКому принадлежит гостиница Мрия?Что было на месте отеля Мрия?Кто держит мрию в Крыму?Что входит в полный пансион Мрия?Официальный сайт курорта Mriya Resort & SPA 5* в Крымуmriyaresort.comОфициальный сайт Mriya Resort & SPA. Условия проживания, бронирование онлайн, трансфер, оздоровление, парки, экскурсии, спорт и фитнес, морские активности,\\xa0...Mriya Resort. Гигантский цветок у моря - Архи Руarchi.ru › tech › mriya-resort-novaya-zhemchuzhina-kryma17 июл. 2019\\u202fг. · Пятизвездочный отель с 425 номерами люксового класса и 17 виллами, включая две «президентские» и три «премиум», сочетается с медицинским и spa-\\xa0...Отель Крыма 5 звезд Mriya Resort & SPAmriyaresort.com › oteli-kryma-5-zvezdСпа-отель Mriya Resort & SPA — ведущий мировой курорт премиум-класса, расположенный на южном берегу Крыма между живописным горным массивом и бескрайним\\xa0...Мрия- это мечта - отзыв о Mriya Resort & Spa, Оползневоеwww.tripadvisor.ru › ... › Отели Оползневого › Mriya Resort & SpaОценка\\n5,0\\n· 9 360 руб - 537 000 руб (На основе среднего тарифа для стандартного номера)\\n· Автор рецензии: DenisychМРИЯ - современный отель, который спроектировал английский архитектор. Четыре корпуса отеля выполнены в виде четырех лепестков цветка. В отеле есть и досуг\\xa0...Mriya Resort & SPA, гостиница, ул. Генерала Острякова ... - Яндексyandex.ru › Карты › Республика Крым › ГостиницыОценка\\n5,0\\n(15\\xa0476) Mriya Resort & SPA — это пятизвездочный курортный отель, расположенный на берегу Черного моря в Крыму. Отель предлагает своим гостям широкий спектр услуг\\xa0...MRIYA RESORT & SPA (МРИЯ РЕЗОРТ энд СПА) 5 - ТопХотелсtophotels.ru › hotelОценка\\n4,8\\n(753)\\n· Точную стоимость смотрите на сайте в разделе \"Номера\"MRIYA RESORT & SPA это круглогодичный курорт, который поистине является жемчужиной крымского побережья и в полном объеме соответствует международным\\xa0...Гостиница Mriya Resort & SPA в Оползневом - Яндекс Путешествияtravel.yandex.ru › Отели › КрымОценка\\n5,0\\n(5\\xa0150)\\n· от 18800 ₽Гостиница Mriya Resort & SPA расположена в селе Оползневое. Количество звёзд: 5. Здесь созданы все условия для комфортного проживания — есть кондиционер,\\xa0...Mriya Resort & SPA 5*, Ялта, Крым, цены от 34000 руб.101hotels.com › cities › yalta › sanatorno-gostinichniy_kompleks_mriyaОценка\\n9,6/10\\n(699)\\n· от 34 000 руб. средняя цена за номер, точную стоимость смотрите на сайте по датамMriya Resort & SPA - курорт премиум-класса в Крыму, включающий в себя пятизвездочный отель, медицинский и SPA-центры международного уровня,\\xa0...Мрия» (Крым) – а Вы хотели бы побывать в сказке? - Black Seabs-taxi.ru › mriya-krym-a-vy-khoteli-by-pobyvat-v-skazke31 дек. 2021\\u202fг. · Санаторно-курортный комплекс «Mriya Resort & SPA 5*» или как многие его называют, отель «Мрия» – настоящая изюминка солнечного полуострова.Запросы по темеМрия КрымМрия Крым ценыОтель МрияОтель Мрия Крым кто построилОтель Мрия Крым кто владелецМрия Крым официальный сайтМрия Крым фотоМрия фото\\nСледующая >\\nр-н Отрадное, МоскваОпределено по IP-адресу\\xa0-\\xa0Подробнее…ВойтиНастройкиКонфиденциальностьУсловияТёмная тема: откл.'"
      ]
     },
     "execution_count": 16,
     "metadata": {},
     "output_type": "execute_result"
    }
   ],
   "source": [
    "browser = LLMBrowser(None, None)\n",
    "browser(\"Гостиница Мрия это\")"
   ]
  },
  {
   "cell_type": "code",
   "execution_count": null,
   "id": "9bb47bbe-8811-4e7a-896f-cdc128fd9593",
   "metadata": {},
   "outputs": [],
   "source": [
    "from transformers import AutoModelForCausalLM, AutoTokenizer\n",
    "\n",
    "device = \"cuda\" # the device to load the model onto\n",
    "\n",
    "tokenizer = AutoTokenizer.from_pretrained(\"mistralai/Mistral-7B-Instruct-v0.2\")"
   ]
  },
  {
   "cell_type": "code",
   "execution_count": null,
   "id": "ec50c9ac-6a64-491e-832c-f3b22736f52c",
   "metadata": {},
   "outputs": [],
   "source": [
    "model = AutoModelForCausalLM.from_pretrained(\"mistralai/Mistral-7B-Instruct-v0.2\")"
   ]
  },
  {
   "cell_type": "code",
   "execution_count": null,
   "id": "d705af7d-7452-4be4-990c-213949a8948e",
   "metadata": {},
   "outputs": [],
   "source": [
    "messages = [\n",
    "    {\"role\": \"user\", \"content\": \"What is your favourite condiment?\"},\n",
    "    {\"role\": \"assistant\", \"content\": \"Well, I'm quite partial to a good squeeze of fresh lemon juice. It adds just the right amount of zesty flavour to whatever I'm cooking up in the kitchen!\"},\n",
    "    {\"role\": \"user\", \"content\": \"Do you have mayonnaise recipes?\"}\n",
    "]\n",
    "\n",
    "encodeds = tokenizer.apply_chat_template(messages, return_tensors=\"pt\")\n",
    "\n",
    "model_inputs = encodeds.to(device)\n",
    "model.to(device)\n",
    "\n",
    "generated_ids = model.generate(model_inputs, max_new_tokens=1000, do_sample=True)\n",
    "decoded = tokenizer.batch_decode(generated_ids)\n",
    "print(decoded[0])\n"
   ]
  }
 ],
 "metadata": {
  "kernelspec": {
   "display_name": "Python 3 (ipykernel)",
   "language": "python",
   "name": "python3"
  },
  "language_info": {
   "codemirror_mode": {
    "name": "ipython",
    "version": 3
   },
   "file_extension": ".py",
   "mimetype": "text/x-python",
   "name": "python",
   "nbconvert_exporter": "python",
   "pygments_lexer": "ipython3",
   "version": "3.10.12"
  }
 },
 "nbformat": 4,
 "nbformat_minor": 5
}
