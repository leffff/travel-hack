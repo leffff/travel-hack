{
 "cells": [
  {
   "cell_type": "code",
   "execution_count": 1,
   "id": "9caa6495-dfc1-4384-8f9a-200af4f03cac",
   "metadata": {},
   "outputs": [],
   "source": [
    "import requests\n",
    "from bs4 import BeautifulSoup\n",
    "import torch\n",
    "\n",
    "\n",
    "class LLMBrowser:\n",
    "    def __init__(self, model, tokenizer, translator, max_new_tokens: int = 100, device: str = \"cuda\"):\n",
    "        self.device = device\n",
    "        self.model = model\n",
    "        self.tokenizer = tokenizer\n",
    "        self.translator = translator\n",
    "        self.max_new_tokens = max_new_tokens\n",
    "        \n",
    "    def __call__(self, request: str):\n",
    "        en_request = self.in_translate(request)\n",
    "        q = \"+\".join(en_request.split())\n",
    "        r = requests.get(f\"https://www.google.com/search?q={q}\")\n",
    "        soup = BeautifulSoup(r.text, features=\"html.parser\")\n",
    "\n",
    "        soup = self.del_script_and_style(soup)\n",
    "        doc = self.extract_text(soup)\n",
    "\n",
    "        en_answer = self.generate(request, doc)\n",
    "        ru_answer = self.out_translate(en_answer)\n",
    "        return ru_answer\n",
    "\n",
    "    def del_script_and_style(self, soup):\n",
    "        for script in soup([\"script\", \"style\"]):\n",
    "            script.extract()    # rip it out\n",
    "        \n",
    "        return soup\n",
    "\n",
    "    def in_translate(self, text):\n",
    "        source_lang = self.translator.detect_lang(text)\n",
    "        return self.translator.translate(text, source_lang, \"en\")\n",
    "\n",
    "    def out_translate(self, text):\n",
    "        source_lang = self.translator.detect_lang(text)\n",
    "        return self.translator.translate(text, \"en\", \"ru\")\n",
    "        \n",
    "    def extract_text(self, soup):\n",
    "        text = soup.get_text()\n",
    "\n",
    "        # break into lines and remove leading and trailing space on each\n",
    "        lines = (line.strip() for line in text.splitlines())\n",
    "        \n",
    "        # break multi-headlines into a line each\n",
    "        chunks = (phrase.strip() for line in lines for phrase in line.split(\"  \"))\n",
    "        \n",
    "        # drop blank lines\n",
    "        text = '\\n'.join(chunk for chunk in chunks if chunk)\n",
    "        \n",
    "        return text\n",
    "\n",
    "    @torch.inference_mode()\n",
    "    def generate(self, request, doc):\n",
    "\n",
    "        content = f\"Hey, Mistral! You now live in Russia, therefore answer all questions inconntext of Russia, Moscow only. Please answer the following question: {request}\\n\\n using this document: {doc}\"\n",
    "        \n",
    "        messages = [\n",
    "            {\"role\": \"user\", \"content\": content,}\n",
    "        ]\n",
    "        \n",
    "        encodeds = self.tokenizer.apply_chat_template(messages, return_tensors=\"pt\")\n",
    "        model_inputs = encodeds.to(self.device)\n",
    "        \n",
    "        generated_ids = model.generate(model_inputs, max_new_tokens=self.max_new_tokens, do_sample=True)\n",
    "        decoded = self.tokenizer.batch_decode(generated_ids)\n",
    "        \n",
    "        \n",
    "        torch.cuda.empty_cache()\n",
    "    \n",
    "        return decoded[0][len(content) + len(\"[INST]\"):]\n",
    "    "
   ]
  },
  {
   "cell_type": "code",
   "execution_count": 2,
   "id": "3ed869c3-b100-405c-a46c-779c37fe873d",
   "metadata": {},
   "outputs": [
    {
     "name": "stderr",
     "output_type": "stream",
     "text": [
      "/home/leffff/PycharmProjects/travel-hack/.venv/lib/python3.10/site-packages/tqdm/auto.py:21: TqdmWarning: IProgress not found. Please update jupyter and ipywidgets. See https://ipywidgets.readthedocs.io/en/stable/user_install.html\n",
      "  from .autonotebook import tqdm as notebook_tqdm\n",
      "Loading checkpoint shards: 100%|███████████████████████████████████████████████████████████████████████████████████████████████████████████████████████████████████████████████████████████████████████████████████████████████████████████████████████████████████████████| 3/3 [00:05<00:00,  1.79s/it]\n"
     ]
    }
   ],
   "source": [
    "import torch\n",
    "from transformers import AutoTokenizer, AutoModelForCausalLM, BitsAndBytesConfig\n",
    "\n",
    "device = \"cuda\" # the device to load the model onto\n",
    "\n",
    "model_name = \"mistralai/Mistral-7B-Instruct-v0.2\"\n",
    "# tokenizer = AutoTokenizer.from_pretrained(model_name)\n",
    "# model = AutoModelForCausalLM.from_pretrained(model_name)\n",
    "\n",
    "bnb_config = BitsAndBytesConfig(\n",
    "    load_in_8bit=True,\n",
    ")\n",
    "\n",
    "model = AutoModelForCausalLM.from_pretrained(\n",
    "    model_name,  # Mistral, same as before\n",
    "    quantization_config=bnb_config,  # Same quantization config as before\n",
    "    device_map=\"auto\",\n",
    "    trust_remote_code=True,\n",
    ")\n",
    "\n",
    "tokenizer = AutoTokenizer.from_pretrained(model_name, add_bos_token=True, trust_remote_code=True)"
   ]
  },
  {
   "cell_type": "code",
   "execution_count": 6,
   "id": "38b89154-34ae-409a-8627-fd517bcbc9db",
   "metadata": {},
   "outputs": [],
   "source": [
    "import sys\n",
    "sys.path.append(\"../\")\n",
    "from translation_service.translation import Translator\n",
    "\n",
    "link = \"https://01b3-109-252-98-213.ngrok-free.app\"\n",
    "\n",
    "translator = Translator(link)"
   ]
  },
  {
   "cell_type": "code",
   "execution_count": 11,
   "id": "cdeb6468-31e0-4c62-86ca-3279723bb8e7",
   "metadata": {},
   "outputs": [
    {
     "name": "stderr",
     "output_type": "stream",
     "text": [
      "The attention mask and the pad token id were not set. As a consequence, you may observe unexpected behavior. Please pass your input's `attention_mask` to obtain reliable results.\n",
      "Setting `pad_token_id` to `eos_token_id`:2 for open-end generation.\n"
     ]
    },
    {
     "name": "stdout",
     "output_type": "stream",
     "text": [
      "на основании предоставленного документа из Google Search, я рекомендую следующие три парка в Москве, Россия:\n",
      "\n",
      "1. Парк Садовников Ю. М. Лужкова (Садовники Парк) - Этот парк расположен в Южном административном округе Москвы, в районе Нагатино-Садовники. Это хорошо сохранившаяся зеленая зона, охватывающая около 34,5 га. Адрес: Андроптерова пр-т, 58А, Москва, 115446 Часы работы: 24 часа Телефон: 8 (499) 175-33-69\n",
      "2.Государственный исторический музей и его окрестности - Этот район не совсем парк, но это популярное место для посещения в Москве. В него входят Государственный исторический музей, Всероссийский выставочный центр, Большой Кремль\n"
     ]
    }
   ],
   "source": [
    "browser = LLMBrowser(model, tokenizer, translator, max_new_tokens=200)\n",
    "print(browser(\"Порекомендуй 3 парка в Москве?\"))"
   ]
  },
  {
   "cell_type": "code",
   "execution_count": 12,
   "id": "f8be834f-21ad-4a72-a166-fb6066d4a7c8",
   "metadata": {},
   "outputs": [
    {
     "name": "stderr",
     "output_type": "stream",
     "text": [
      "The attention mask and the pad token id were not set. As a consequence, you may observe unexpected behavior. Please pass your input's `attention_mask` to obtain reliable results.\n",
      "Setting `pad_token_id` to `eos_token_id`:2 for open-end generation.\n"
     ]
    },
    {
     "name": "stdout",
     "output_type": "stream",
     "text": [
      "почему стоит посетить Московский планетарий: Космическое путешествие сквозь пространство и время\n",
      "\n",
      "Введение:\n",
      "Московский планетарий, основанный в 1929 году, является одной из самых популярных туристических достопримечательностей Москвы. Это знаковое учреждение предлагает посетителям увлекательный и просветительский опыт, позволяющий им исследовать чудеса Вселенной в захватывающей среде. В этой статье мы обсудим причины, по которым вы должны планировать посещение Московского планетария, опираясь на различные источники, чтобы предоставить вам информативную и убедительную перспективу.\n",
      "\n",
      "1. Богатая история:\n",
      "Основанный в 1929 году Московский планетарий имеет богатую историю, которая охватывает более девяти десятилетий. Это уникальное учреждение имеет легендарную историю и вдохновляет поколения людей смотреть на ночное небо с удивлением и любопытством. Посещая Московский Планетарий, вы станете частью непреходящей традиции\n"
     ]
    }
   ],
   "source": [
    "print(browser(\"Напиши стаью по теме: почему я должен пойти в Москвоский Планетарий\"))"
   ]
  },
  {
   "cell_type": "code",
   "execution_count": 9,
   "id": "593bb01d-484b-4853-9a6b-75bb2c79a3b0",
   "metadata": {},
   "outputs": [
    {
     "name": "stderr",
     "output_type": "stream",
     "text": [
      "The attention mask and the pad token id were not set. As a consequence, you may observe unexpected behavior. Please pass your input's `attention_mask` to obtain reliable results.\n",
      "Setting `pad_token_id` to `eos_token_id`:2 for open-end generation.\n"
     ]
    },
    {
     "name": "stdout",
     "output_type": "stream",
     "text": [
      "чтобы создать туристический план для Москвы на основе предоставленного документа, вот предлагаемый маршрут для изучения города:\n",
      "\n",
      "День 1:\n",
      "1. Посетите Красную площадь и собор Святого Василия.\n",
      "2.Исследуйте Государственный исторический музей и торговый центр Gum.\n",
      "3. Прогуляйтесь по улице Арбат.\n",
      "4.Насладитесь русским фольклорным представлением или балетом в Большом театре.\n",
      "\n",
      "День 2:\n",
      "1. Совершите экскурсию по Кремлю и его соборам, таким как Успенский собор и колокольня Ивана Великого.\n",
      "2. Посетите Воробей Холм для панорамного вида на Москву.\n",
      "3. Прогуляйтесь по очаровательному парку Зарядье.\n",
      "\n",
      "День 3:\n",
      "1. Посетите Третьяковскую галерею, чтобы увидеть русские иконы и искусство.\n",
      "2. Исследуйте улицы Арцынского района\n"
     ]
    }
   ],
   "source": [
    "print(browser(\"Составь план туристической прогулки по Москве?\"))"
   ]
  },
  {
   "cell_type": "code",
   "execution_count": 10,
   "id": "7c8f1718-3264-4302-87f5-38d2d1973c97",
   "metadata": {},
   "outputs": [
    {
     "name": "stderr",
     "output_type": "stream",
     "text": [
      "The attention mask and the pad token id were not set. As a consequence, you may observe unexpected behavior. Please pass your input's `attention_mask` to obtain reliable results.\n",
      "Setting `pad_token_id` to `eos_token_id`:2 for open-end generation.\n"
     ]
    },
    {
     "name": "stdout",
     "output_type": "stream",
     "text": [
      "название: Пять заметных тенденций, формирующих ландшафт корпоративных событий в Москве, Россия\n",
      "\n",
      "Москва, сердце России, известна своей богатой историей, яркой культурой и процветающей экономикой. Его шумная корпоративная сцена не является исключением, с постоянно развивающимся рынком корпоративных событий. В этой статье мы рассмотрим пять основных тенденций, формирующих этот динамичный сектор в Москве.\n",
      "\n",
      "1. Виртуальные и гибридные события\n",
      "Пандемия COVID-19 значительно повлияла на корпоративный ландшафт событий во всем мире, что привело к всплеску виртуальных и гибридных событий. Москва не исключение. Компании в Москве все чаще используют эти форматы для поддержания связи и взаимодействия со своими командами и клиентами, несмотря на физические ограничения. Виртуальные и гибридные мероприятия предлагают уникальные возможности для настройки, снижения затрат и расширения охвата, что делает их все более популярным трендом на рынке корпоративных мероприятий в Москве.\n",
      "\n",
      "2. Экспериментальные события\n",
      "Конкуренция в корпоративном мире растет\n"
     ]
    }
   ],
   "source": [
    "print(browser(\"Напиши статью на тему 5 главных трендов рынка корпоратиынх мероприятий в России?\"))"
   ]
  },
  {
   "cell_type": "code",
   "execution_count": null,
   "id": "4c6f8be4-db4b-42c8-9dce-62d444ca52df",
   "metadata": {},
   "outputs": [],
   "source": []
  }
 ],
 "metadata": {
  "kernelspec": {
   "display_name": "Python 3 (ipykernel)",
   "language": "python",
   "name": "python3"
  },
  "language_info": {
   "codemirror_mode": {
    "name": "ipython",
    "version": 3
   },
   "file_extension": ".py",
   "mimetype": "text/x-python",
   "name": "python",
   "nbconvert_exporter": "python",
   "pygments_lexer": "ipython3",
   "version": "3.10.12"
  }
 },
 "nbformat": 4,
 "nbformat_minor": 5
}
