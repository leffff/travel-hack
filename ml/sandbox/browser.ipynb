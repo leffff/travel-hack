{
 "cells": [
  {
   "cell_type": "code",
   "execution_count": 1,
   "id": "9caa6495-dfc1-4384-8f9a-200af4f03cac",
   "metadata": {},
   "outputs": [],
   "source": [
    "import requests\n",
    "from bs4 import BeautifulSoup\n",
    "import torch\n",
    "\n",
    "\n",
    "class LLMBrowser:\n",
    "    def __init__(self, model, tokenizer, translator, max_new_tokens: int = 100, device: str = \"cuda\"):\n",
    "        self.device = device\n",
    "        self.model = model\n",
    "        self.tokenizer = tokenizer\n",
    "        self.translator = translator\n",
    "        self.max_new_tokens = max_new_tokens\n",
    "        \n",
    "    def __call__(self, request: str):\n",
    "        en_request = self.in_translate(request)\n",
    "        q = \"+\".join(en_request.split())\n",
    "        r = requests.get(f\"https://www.google.com/search?q={q}\")\n",
    "        soup = BeautifulSoup(r.text, features=\"html.parser\")\n",
    "\n",
    "        soup = self.del_script_and_style(soup)\n",
    "        doc = self.extract_text(soup)\n",
    "\n",
    "        en_answer = self.generate(request, doc)\n",
    "        ru_answer = self.out_translate(en_answer)\n",
    "        return ru_answer\n",
    "\n",
    "    def del_script_and_style(self, soup):\n",
    "        for script in soup([\"script\", \"style\"]):\n",
    "            script.extract()    # rip it out\n",
    "        \n",
    "        return soup\n",
    "\n",
    "    def in_translate(self, text):\n",
    "        source_lang = self.translator.detect_lang(text)\n",
    "        return self.translator.translate(text, source_lang, \"en\")\n",
    "\n",
    "    def out_translate(self, text):\n",
    "        source_lang = self.translator.detect_lang(text)\n",
    "        return self.translator.translate(text, \"en\", \"ru\")\n",
    "        \n",
    "    def extract_text(self, soup):\n",
    "        text = soup.get_text()\n",
    "\n",
    "        # break into lines and remove leading and trailing space on each\n",
    "        lines = (line.strip() for line in text.splitlines())\n",
    "        \n",
    "        # break multi-headlines into a line each\n",
    "        chunks = (phrase.strip() for line in lines for phrase in line.split(\"  \"))\n",
    "        \n",
    "        # drop blank lines\n",
    "        text = '\\n'.join(chunk for chunk in chunks if chunk)\n",
    "        \n",
    "        return text\n",
    "\n",
    "    @torch.inference_mode()\n",
    "    def generate(self, request, doc):\n",
    "\n",
    "        content = f\"Hey, Mistral! You now live in Russia, therefore answer all questions inconntext of Russia, Moscow only. Please answer the following question: {request}\\n\\n using this document: {doc}\"\n",
    "        \n",
    "        messages = [\n",
    "            {\"role\": \"user\", \"content\": content,}\n",
    "        ]\n",
    "        \n",
    "        encodeds = self.tokenizer.apply_chat_template(messages, return_tensors=\"pt\")\n",
    "        model_inputs = encodeds.to(self.device)\n",
    "        \n",
    "        generated_ids = model.generate(model_inputs, max_new_tokens=self.max_new_tokens, do_sample=True)\n",
    "        decoded = self.tokenizer.batch_decode(generated_ids)\n",
    "        \n",
    "        \n",
    "        torch.cuda.empty_cache()\n",
    "    \n",
    "        return decoded[0][len(content) + len(\"[INST]\"):]\n",
    "    "
   ]
  },
  {
   "cell_type": "code",
   "execution_count": 2,
   "id": "3ed869c3-b100-405c-a46c-779c37fe873d",
   "metadata": {},
   "outputs": [
    {
     "name": "stderr",
     "output_type": "stream",
     "text": [
      "/home/leffff/PycharmProjects/travel-hack/.venv/lib/python3.10/site-packages/tqdm/auto.py:21: TqdmWarning: IProgress not found. Please update jupyter and ipywidgets. See https://ipywidgets.readthedocs.io/en/stable/user_install.html\n",
      "  from .autonotebook import tqdm as notebook_tqdm\n",
      "Loading checkpoint shards: 100%|████████████████████████████████████████████████████████████████████████████████████████████████████| 3/3 [00:05<00:00,  1.83s/it]\n"
     ]
    }
   ],
   "source": [
    "import torch\n",
    "from transformers import AutoTokenizer, AutoModelForCausalLM, BitsAndBytesConfig\n",
    "\n",
    "device = \"cuda\" # the device to load the model onto\n",
    "\n",
    "model_name = \"mistralai/Mistral-7B-Instruct-v0.2\"\n",
    "# tokenizer = AutoTokenizer.from_pretrained(model_name)\n",
    "# model = AutoModelForCausalLM.from_pretrained(model_name)\n",
    "\n",
    "bnb_config = BitsAndBytesConfig(\n",
    "    load_in_8bit=True,\n",
    ")\n",
    "\n",
    "model = AutoModelForCausalLM.from_pretrained(\n",
    "    model_name,  # Mistral, same as before\n",
    "    quantization_config=bnb_config,  # Same quantization config as before\n",
    "    device_map=\"auto\",\n",
    "    trust_remote_code=True,\n",
    ")\n",
    "\n",
    "tokenizer = AutoTokenizer.from_pretrained(model_name, add_bos_token=True, trust_remote_code=True)"
   ]
  },
  {
   "cell_type": "code",
   "execution_count": 3,
   "id": "38b89154-34ae-409a-8627-fd517bcbc9db",
   "metadata": {},
   "outputs": [],
   "source": [
    "from translation import Translator\n",
    "\n",
    "link = \"https://01b3-109-252-98-213.ngrok-free.app\"\n",
    "\n",
    "translator = Translator(link)"
   ]
  },
  {
   "cell_type": "code",
   "execution_count": 5,
   "id": "cdeb6468-31e0-4c62-86ca-3279723bb8e7",
   "metadata": {},
   "outputs": [
    {
     "name": "stderr",
     "output_type": "stream",
     "text": [
      "The attention mask and the pad token id were not set. As a consequence, you may observe unexpected behavior. Please pass your input's `attention_mask` to obtain reliable results.\n",
      "Setting `pad_token_id` to `eos_token_id`:2 for open-end generation.\n"
     ]
    },
    {
     "name": "stdout",
     "output_type": "stream",
     "text": [
      "на основании информации из документа я бы рекомендовал следующие пять парков в Москве:\n",
      "\n",
      "1. Центральный парк культуры и отдыха имени Горького\n",
      "2. Коломенское\n",
      "3. Парк Зарядье\n",
      "4.Музей-заповедник Царицыно\n",
      "5. Парк \"Сокольники\"\n",
      "\n",
      "Эти парки упоминались в различных источниках как популярные и настоятельно рекомендуемые места для посещения в Москве. Наслаждайтесь своим временем, исследуя эти прекрасные парки\n"
     ]
    }
   ],
   "source": [
    "browser = LLMBrowser(model, tokenizer, translator, max_new_tokens=200)\n",
    "print(browser(\"Порекомендуй 5 парков в Москве?\"))"
   ]
  },
  {
   "cell_type": "code",
   "execution_count": null,
   "id": "593bb01d-484b-4853-9a6b-75bb2c79a3b0",
   "metadata": {},
   "outputs": [],
   "source": []
  }
 ],
 "metadata": {
  "kernelspec": {
   "display_name": "Python 3 (ipykernel)",
   "language": "python",
   "name": "python3"
  },
  "language_info": {
   "codemirror_mode": {
    "name": "ipython",
    "version": 3
   },
   "file_extension": ".py",
   "mimetype": "text/x-python",
   "name": "python",
   "nbconvert_exporter": "python",
   "pygments_lexer": "ipython3",
   "version": "3.10.12"
  }
 },
 "nbformat": 4,
 "nbformat_minor": 5
}
